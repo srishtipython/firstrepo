{
 "cells": [
  {
   "cell_type": "code",
   "execution_count": null,
   "id": "9e854fa9",
   "metadata": {},
   "outputs": [
    {
     "name": "stderr",
     "output_type": "stream",
     "text": [
      "<ipython-input-1-c8e1959e34ee>:2: UserWarning: \n",
      "The dash_core_components package is deprecated. Please replace\n",
      "`import dash_core_components as dcc` with `from dash import dcc`\n",
      "  import dash_core_components as dcc\n",
      "<ipython-input-1-c8e1959e34ee>:4: UserWarning: \n",
      "The dash_html_components package is deprecated. Please replace\n",
      "`import dash_html_components as html` with `from dash import html`\n",
      "  import dash_html_components as html\n"
     ]
    },
    {
     "name": "stdout",
     "output_type": "stream",
     "text": [
      "[Div(children=[Dropdown(id='dropdown', clearable=True, multi=False, optionHeight=35, options=[{'label': 'Literacy Percentage', 'value': 'Literacy'}, {'label': 'Human Development Index', 'value': 'HDI'}, {'label': 'Poverty Percentage', 'value': 'Poverty'}], placeholder='Please select...', search_value='', searchable=True, style={'width': '100%'}, value='Literacy')], className='three columns')]\n",
      "Dash is running on http://127.0.0.1:8050/\n",
      "\n",
      " * Serving Flask app \"__main__\" (lazy loading)\n",
      " * Environment: production\n",
      "   WARNING: This is a development server. Do not use it in a production deployment.\n",
      "   Use a production WSGI server instead.\n",
      " * Debug mode: off\n"
     ]
    },
    {
     "name": "stderr",
     "output_type": "stream",
     "text": [
      " * Running on http://127.0.0.1:8050/ (Press CTRL+C to quit)\n",
      "127.0.0.1 - - [04/Nov/2021 16:16:22] \"\u001b[37mGET / HTTP/1.1\u001b[0m\" 200 -\n",
      "127.0.0.1 - - [04/Nov/2021 16:16:22] \"\u001b[37mGET /_favicon.ico?v=2.0.0 HTTP/1.1\u001b[0m\" 200 -\n",
      "127.0.0.1 - - [04/Nov/2021 16:16:22] \"\u001b[37mGET /_dash-layout HTTP/1.1\u001b[0m\" 200 -\n",
      "127.0.0.1 - - [04/Nov/2021 16:16:22] \"\u001b[37mGET /_dash-dependencies HTTP/1.1\u001b[0m\" 200 -\n",
      "127.0.0.1 - - [04/Nov/2021 16:16:22] \"\u001b[37mGET /_dash-component-suites/dash/dcc/async-dropdown.js HTTP/1.1\u001b[0m\" 200 -\n",
      "127.0.0.1 - - [04/Nov/2021 16:16:22] \"\u001b[37mGET /_dash-component-suites/dash/dcc/async-graph.js HTTP/1.1\u001b[0m\" 200 -\n",
      "127.0.0.1 - - [04/Nov/2021 16:16:22] \"\u001b[37mGET /_dash-component-suites/dash/dcc/async-plotlyjs.js HTTP/1.1\u001b[0m\" 200 -\n"
     ]
    }
   ],
   "source": [
    "import dash\n",
    "import dash_core_components as dcc\n",
    "import dash_bootstrap_components as dbc\n",
    "import dash_html_components as html\n",
    "from dash.dependencies import Input, Output\n",
    "import pandas as pd\n",
    "import plotly.express as px\n",
    "\n",
    "df=pd.read_csv(\"C:/Users/USER/Desktop/python/Literacy.csv\")\n",
    "app=dash.Dash(__name__, external_stylesheets=[dbc.themes.BOOTSTRAP])\n",
    "server=app.server\n",
    "\n",
    "#creating the radio list\n",
    "dropdown=[]\n",
    "dropdown.append(\n",
    "        html.Div([\n",
    "            dcc.Dropdown(\n",
    "                id='dropdown',\n",
    "                options=[\n",
    "                    {\"label\":\"Literacy Percentage\",\"value\":\"Literacy\"},\n",
    "                    {\"label\":\"Human Development Index\",\"value\":\"HDI\"},\n",
    "                    {\"label\":\"Poverty Percentage\",\"value\":\"Poverty\"}\n",
    "                ],\n",
    "                optionHeight=35,\n",
    "                value='Literacy',\n",
    "                multi=False,\n",
    "                searchable=True,\n",
    "                search_value='',\n",
    "                placeholder='Please select...',\n",
    "                clearable=True,\n",
    "                style={'width':\"100%\"},\n",
    "            ),\n",
    "        ],className='three columns')\n",
    "        )\n",
    "print(dropdown)\n",
    "        \n",
    "# app layout\n",
    "app.layout=html.Div([\n",
    "           dbc.Row([\n",
    "               dbc.Col(html.H1(\"India: Development Statistics\"),style={'textAlign':'center'},width=12)\n",
    "           ]),\n",
    "           dbc.Row([\n",
    "               dbc.Col(dropdown,xs=3,sm=3,md=3,lg=3,xl=3),\n",
    "               dbc.Col(dcc.Graph(id=\"choropleth\",figure={},config={'displayModeBar':False}),xs=10,sm=10,md=10,lg=10,xl=10)\n",
    "           ],className=\"g-0\")\n",
    "    \n",
    "])\n",
    "#callback\n",
    "@app.callback(\n",
    "    Output(component_id='choropleth',component_property='figure'),\n",
    "    Input(component_id='dropdown',component_property='value')\n",
    ")\n",
    "\n",
    "def update_graph(dropdown_value):\n",
    "    #can either add 0 or leave it empty: df[\"\"]==df['{}'.format()] or df['{0}'.format()]\n",
    "    #IMPORTANT: featureidkey(properties.ST_NM) from geojson file is matched with locations(state) from df file to club the data\n",
    "    #Hovername is unnecessary\n",
    "    mapp=px.choropleth(df,geojson=\"https://gist.githubusercontent.com/jbrobst/56c13bbbf9d97d187fea01ca62ea5112/raw/e388c4cae20aa53cb5090210a42ebb9b765c0a36/india_states.geojson\",featureidkey=\"properties.ST_NM\",locations=\"State Name\",hover_name='{}'.format(dropdown_value),color=df['{0}'.format(dropdown_value)],color_continuous_scale=\"Reds\")\n",
    "    mapp.update_geos(fitbounds=\"locations\",visible=False)\n",
    "    return mapp\n",
    "\n",
    "if __name__=='__main__':\n",
    " app.run_server(debug=False)\n"
   ]
  },
  {
   "cell_type": "code",
   "execution_count": null,
   "id": "4dd64ddd",
   "metadata": {},
   "outputs": [],
   "source": [
    "print(\"sri\")"
   ]
  },
  {
   "cell_type": "code",
   "execution_count": null,
   "id": "d1e70f7e",
   "metadata": {},
   "outputs": [],
   "source": []
  }
 ],
 "metadata": {
  "kernelspec": {
   "display_name": "Python 3",
   "language": "python",
   "name": "python3"
  },
  "language_info": {
   "codemirror_mode": {
    "name": "ipython",
    "version": 3
   },
   "file_extension": ".py",
   "mimetype": "text/x-python",
   "name": "python",
   "nbconvert_exporter": "python",
   "pygments_lexer": "ipython3",
   "version": "3.8.8"
  }
 },
 "nbformat": 4,
 "nbformat_minor": 5
}
